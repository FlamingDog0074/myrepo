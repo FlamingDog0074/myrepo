{
 "cells": [
  {
   "cell_type": "markdown",
   "metadata": {},
   "source": [
    "# Project 3\n",
    "\n",
    "## SDS348 Spring 2021"
   ]
  },
  {
   "cell_type": "code",
   "execution_count": null,
   "metadata": {},
   "outputs": [],
   "source": []
  },
  {
   "cell_type": "markdown",
   "metadata": {},
   "source": [
    "### Truman Le ttl662"
   ]
  },
  {
   "cell_type": "markdown",
   "metadata": {},
   "source": [
    "Final project for SDS 348."
   ]
  },
  {
   "cell_type": "code",
   "execution_count": 5,
   "metadata": {},
   "outputs": [],
   "source": [
    "# Import packages\n",
    "import pandas as pd\n",
    "import seaborn as sns\n",
    "import matplotlib.pyplot as plt"
   ]
  },
  {
   "cell_type": "markdown",
   "metadata": {},
   "source": [
    "### Import data and describe features"
   ]
  },
  {
   "cell_type": "code",
   "execution_count": 6,
   "metadata": {},
   "outputs": [],
   "source": [
    "# Import dataset\n",
    "flights = sns.load_dataset('flights')"
   ]
  },
  {
   "cell_type": "code",
   "execution_count": 7,
   "metadata": {},
   "outputs": [
    {
     "name": "stdout",
     "output_type": "stream",
     "text": [
      "(144, 3)\n"
     ]
    }
   ],
   "source": [
    "#Get dimensions\n",
    "print(flights.shape)"
   ]
  },
  {
   "cell_type": "markdown",
   "metadata": {},
   "source": [
    "There are 144 observations and 3 columns. One row represents the number of passengers for a designated month of a designated year."
   ]
  },
  {
   "cell_type": "markdown",
   "metadata": {},
   "source": [
    "### EDA"
   ]
  },
  {
   "cell_type": "code",
   "execution_count": 9,
   "metadata": {},
   "outputs": [
    {
     "name": "stdout",
     "output_type": "stream",
     "text": [
      "December     12\n",
      "November     12\n",
      "October      12\n",
      "September    12\n",
      "August       12\n",
      "July         12\n",
      "June         12\n",
      "May          12\n",
      "April        12\n",
      "March        12\n",
      "February     12\n",
      "January      12\n",
      "Name: month, dtype: int64\n",
      "             year                 passengers                 \n",
      "             mean       std size        mean         std size\n",
      "month                                                        \n",
      "July       1954.5  3.605551   12  351.333333  156.827255   12\n",
      "August     1954.5  3.605551   12  351.083333  155.783333   12\n",
      "June       1954.5  3.605551   12  311.666667  134.219856   12\n",
      "September  1954.5  3.605551   12  302.416667  123.954140   12\n",
      "May        1954.5  3.605551   12  271.833333  114.739890   12\n",
      "March      1954.5  3.605551   12  270.166667  100.559194   12\n",
      "April      1954.5  3.605551   12  267.083333  107.374839   12\n",
      "October    1954.5  3.605551   12  266.583333  110.744964   12\n",
      "December   1954.5  3.605551   12  261.833333  103.093808   12\n",
      "January    1954.5  3.605551   12  241.750000  101.032960   12\n",
      "February   1954.5  3.605551   12  235.000000   89.619397   12\n",
      "November   1954.5  3.605551   12  232.833333   95.185783   12\n"
     ]
    },
    {
     "data": {
      "image/png": "[encoded data removed]",
      "text/plain": [
       "<Figure size 432x288 with 1 Axes>"
      ]
     },
     "metadata": {
      "needs_background": "light"
     },
     "output_type": "display_data"
    }
   ],
   "source": [
    "#Get counts of each month\n",
    "print(flights['month'].value_counts())\n",
    "\n",
    "#Get mean, standard deviation, and size of passengers for each month\n",
    "print(flights.groupby(['month'])\n",
    ".agg(['mean','std','size'])\n",
    ".sort_values(by = ('passengers','mean'), ascending = False))\n",
    "\n",
    "#Make bar graph depicting passengers and month\n",
    "plt.bar(flights.month, flights.passengers, align='center', alpha=0.5)\n",
    "plt.xticks(flights.month)\n",
    "plt.ylabel('Passengers')\n",
    "plt.title('Flight Data')\n",
    "\n",
    "plt.show()"
   ]
  },
  {
   "cell_type": "markdown",
   "metadata": {},
   "source": [
    "The counts for the months make sense, the counts are equal because the dataset has data from 12 months in a year, and the count being 12 means that 12 years were gathered for data. For the summary statistics, we can see that July and August had the most passengers on flights, while Feburary and November had the least passnegers on flights. The bar graph helps visualize that data, with most flights centered around the summer and the least flights around winter season. This makes sense, lots of families like to travel via plane during the summer, but for Christmas most people want to stay at home and celebrate with the family."
   ]
  }
 ],
 "metadata": {
  "kernelspec": {
   "display_name": "Python 3",
   "language": "python",
   "name": "python3"
  },
  "language_info": {
   "codemirror_mode": {
    "name": "ipython",
    "version": 3
   },
   "file_extension": ".py",
   "mimetype": "text/x-python",
   "name": "python",
   "nbconvert_exporter": "python",
   "pygments_lexer": "ipython3",
   "version": "3.6.9"
  }
 },
 "nbformat": 4,
 "nbformat_minor": 4
}
